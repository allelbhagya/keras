{
 "cells": [
  {
   "cell_type": "markdown",
   "metadata": {},
   "source": [
    "### metrics\n",
    "\n",
    "metrics are used to measure the performance of a machine learning model during training and evaluation\n",
    "\n",
    "- Accuracy\n",
    "\n",
    "- Precision: correctness of positive predictions\n",
    "\n",
    "- Recall: how many of the actual positive samples were correctly identified by the model\n",
    "\n",
    "- F1 Score: combined metric that balances precision and recall\n",
    "\n",
    "- Mean Squared Error (MSE): average squared difference between the model's predictions and the actual values\n",
    "\n",
    "- Mean Absolute Error (MAE): average absolute difference between the model's predictions and the actual values"
   ]
  },
  {
   "cell_type": "code",
   "execution_count": 5,
   "metadata": {},
   "outputs": [],
   "source": [
    "from tensorflow import keras\n",
    "from keras import metrics"
   ]
  },
  {
   "cell_type": "code",
   "execution_count": 6,
   "metadata": {},
   "outputs": [],
   "source": [
    "model = keras.Sequential()\n",
    "model.compile(\n",
    "    optimizer = 'adam',\n",
    "    loss = 'mean_squared_error',\n",
    "    metrics = [\n",
    "        metrics.MeanSquaredError(),\n",
    "        metrics.AUC(),\n",
    "    ]\n",
    "    )"
   ]
  },
  {
   "cell_type": "code",
   "execution_count": 7,
   "metadata": {},
   "outputs": [
    {
     "name": "stdout",
     "output_type": "stream",
     "text": [
      "Intermediate result: 0.6666666865348816\n",
      "Final result: 0.7142857313156128\n"
     ]
    }
   ],
   "source": [
    "# standalone metrics \n",
    "\n",
    "# updating metric state\n",
    "\n",
    "m = keras.metrics.AUC()\n",
    "m.update_state([0, 1, 1, 1], [0, 1, 0, 0])\n",
    "print('Intermediate result:', float(m.result()))\n",
    "\n",
    "m.update_state([1, 1, 1, 1], [0, 1, 1, 0])\n",
    "print('Final result:', float(m.result()))"
   ]
  }
 ],
 "metadata": {
  "kernelspec": {
   "display_name": "Python 3",
   "language": "python",
   "name": "python3"
  },
  "language_info": {
   "codemirror_mode": {
    "name": "ipython",
    "version": 3
   },
   "file_extension": ".py",
   "mimetype": "text/x-python",
   "name": "python",
   "nbconvert_exporter": "python",
   "pygments_lexer": "ipython3",
   "version": "3.10.11"
  },
  "orig_nbformat": 4
 },
 "nbformat": 4,
 "nbformat_minor": 2
}
