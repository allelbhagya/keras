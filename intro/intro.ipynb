{
 "cells": [
  {
   "cell_type": "markdown",
   "metadata": {},
   "source": [
    "### what is keras?\n",
    "- high level neural network API\n",
    "- ml framework\n",
    "- provides pre-built layers, loss functions, optimizers"
   ]
  },
  {
   "cell_type": "markdown",
   "metadata": {},
   "source": [
    "### API conponents \n",
    "\n",
    "Layers - encapsulates a state(weight) and computation defined (tf.keras.layers.Layer.call)\n",
    "\n",
    "```py\n",
    "tf.keras.layers.Layer #class fundamental abstraction\n",
    "```\n"
   ]
  },
  {
   "cell_type": "markdown",
   "metadata": {},
   "source": [
    "### Model\n",
    "\n",
    "object that groups layers together and can be trained on data\n",
    "\n",
    "Sequential model - linear stack of layers"
   ]
  },
  {
   "cell_type": "markdown",
   "metadata": {},
   "source": [
    "```py\n",
    "tf.keras.Model # built in training and evaluation models\n",
    "tf.keras.Model.fit #trains the model for a fixed number of epochs\n",
    "tf.keras.Model.predict #generates output predictions for input samples\n",
    "tf.keras.Model.evaluate #returns loss and mertics values for model using\n",
    "tf.keras.Model.compile method\n",
    "```"
   ]
  },
  {
   "cell_type": "markdown",
   "metadata": {},
   "source": [
    "callbacks - leverage built-in callbacks for early stopping, model checkpointing, and TensorBoard monitoring"
   ]
  }
 ],
 "metadata": {
  "language_info": {
   "name": "python"
  },
  "orig_nbformat": 4
 },
 "nbformat": 4,
 "nbformat_minor": 2
}
