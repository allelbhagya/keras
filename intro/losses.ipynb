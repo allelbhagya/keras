{
 "cells": [
  {
   "cell_type": "markdown",
   "metadata": {},
   "source": [
    "### Probabilistic losses\n",
    "\n",
    "- CategoricalCrossentropy class\n",
    "- SparseCategoricalCrossentropy class\n",
    "- Poisson class\n",
    "- binary_crossentropy function\n",
    "- categorical_crossentropy function\n",
    "- sparse_categorical_crossentropy function\n",
    "- poisson function\n",
    "- KLDivergence class\n",
    "- kl_divergence function\n",
    "\n",
    "### Regression losses \n",
    "\n",
    "- MeanSquaredError class\n",
    "- MeanAbsoluteError class\n",
    "- MeanAbsolutePercentageError class\n",
    "- MeanSquaredLogarithmicError class\n",
    "- CosineSimilarity class\n",
    "- mean_squared_error function\n",
    "- mean_absolute_error function\n",
    "- mean_absolute_percentage_error function\n",
    "- mean_squared_logarithmic_error function\n",
    "- cosine_similarity function\n",
    "- Huber class\n",
    "- huber function\n",
    "- LogCosh class\n",
    "- log_cosh function\n",
    "\n",
    "### hinge losses for maximum margin classification\n",
    "\n",
    "- Hinge class\n",
    "- SquaredHinge class\n",
    "- CategoricalHinge class\n",
    "- hinge function\n",
    "- squared_hinge function\n",
    "- categorical_hinge function\n",
    "\n",
    "\n"
   ]
  },
  {
   "cell_type": "code",
   "execution_count": 1,
   "metadata": {},
   "outputs": [],
   "source": [
    "from tensorflow import keras\n",
    "from tensorflow.keras import layers\n",
    "\n",
    "model = keras.Sequential()\n",
    "model.add(layers.Dense(64, kernel_initializer='uniform', input_shape=(10,)))\n",
    "model.add(layers.Activation('softmax'))\n",
    "\n",
    "loss_fn = keras.losses.SparseCategoricalCrossentropy()\n",
    "model.compile(loss=loss_fn, optimizer='adam')"
   ]
  }
 ],
 "metadata": {
  "kernelspec": {
   "display_name": "Python 3",
   "language": "python",
   "name": "python3"
  },
  "language_info": {
   "codemirror_mode": {
    "name": "ipython",
    "version": 3
   },
   "file_extension": ".py",
   "mimetype": "text/x-python",
   "name": "python",
   "nbconvert_exporter": "python",
   "pygments_lexer": "ipython3",
   "version": "3.10.11"
  },
  "orig_nbformat": 4
 },
 "nbformat": 4,
 "nbformat_minor": 2
}
